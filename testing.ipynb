{
 "cells": [
  {
   "cell_type": "code",
   "execution_count": 9,
   "metadata": {
    "collapsed": true,
    "ExecuteTime": {
     "end_time": "2023-05-03T01:01:34.619549Z",
     "start_time": "2023-05-03T01:01:34.617707Z"
    }
   },
   "outputs": [],
   "source": [
    "import os\n",
    "import sys"
   ]
  },
  {
   "cell_type": "code",
   "execution_count": 10,
   "outputs": [
    {
     "name": "stdout",
     "output_type": "stream",
     "text": [
      "PATH: /Users/gustavwogen/anaconda3/envs/spotify_dashboard/bin:/Users/gustavwogen/anaconda3/condabin:/usr/local/bin:/System/Cryptexes/App/usr/bin:/usr/bin:/bin:/usr/sbin:/sbin:/var/run/com.apple.security.cryptexd/codex.system/bootstrap/usr/local/bin:/var/run/com.apple.security.cryptexd/codex.system/bootstrap/usr/bin:/var/run/com.apple.security.cryptexd/codex.system/bootstrap/usr/appleinternal/bin\n",
      "CONDA_DEFAULT_ENV: spotify_dashboard\n",
      "CONDA_EXE: /Users/gustavwogen/anaconda3/bin/conda\n",
      "CONDA_PYTHON_EXE: /Users/gustavwogen/anaconda3/bin/python\n",
      "LANG: en_US.UTF-8\n",
      "COMMAND_MODE: unix2003\n",
      "CONDA_PREFIX: /Users/gustavwogen/anaconda3/envs/spotify_dashboard\n",
      "_CE_M: \n",
      "LOGNAME: gustavwogen\n",
      "XPC_SERVICE_NAME: application.com.jetbrains.pycharm.643364.644166\n",
      "PWD: /Users/gustavwogen/PycharmProjects/spotify_dashboard\n",
      "CONDA_SHLVL: 2\n",
      "__CFBundleIdentifier: com.jetbrains.pycharm\n",
      "LANGUAGE: \n",
      "PYTHONPATH: /Users/gustavwogen/PycharmProjects/spotify_dashboard\n",
      "SHELL: /bin/zsh\n",
      "OLDPWD: /\n",
      "USER: gustavwogen\n",
      "TMPDIR: /var/folders/1g/1yfflk6123ldbdd6xg4474fw0000gn/T/\n",
      "SSH_AUTH_SOCK: /private/tmp/com.apple.launchd.PdUqhGbCXt/Listeners\n",
      "_CE_CONDA: \n",
      "XPC_FLAGS: 0x0\n",
      "LC_ALL: en_US.UTF-8\n",
      "__CF_USER_TEXT_ENCODING: 0x1F5:0x0:0x0\n",
      "CONDA_PROMPT_MODIFIER: (spotify_dashboard) \n",
      "LC_CTYPE: en_US.UTF-8\n",
      "HOME: /Users/gustavwogen\n",
      "PYDEVD_USE_FRAME_EVAL: NO\n",
      "JPY_PARENT_PID: 15970\n",
      "TERM: xterm-color\n",
      "CLICOLOR: 1\n",
      "FORCE_COLOR: 1\n",
      "CLICOLOR_FORCE: 1\n",
      "PAGER: cat\n",
      "GIT_PAGER: cat\n",
      "MPLBACKEND: module://matplotlib_inline.backend_inline\n"
     ]
    }
   ],
   "source": [
    "for name, value in os.environ.items():\n",
    "    print(\"{0}: {1}\".format(name, value))"
   ],
   "metadata": {
    "collapsed": false,
    "ExecuteTime": {
     "end_time": "2023-05-03T01:01:34.757766Z",
     "start_time": "2023-05-03T01:01:34.755427Z"
    }
   }
  },
  {
   "cell_type": "code",
   "execution_count": null,
   "outputs": [],
   "source": [],
   "metadata": {
    "collapsed": false
   }
  }
 ],
 "metadata": {
  "kernelspec": {
   "display_name": "Python 3",
   "language": "python",
   "name": "python3"
  },
  "language_info": {
   "codemirror_mode": {
    "name": "ipython",
    "version": 2
   },
   "file_extension": ".py",
   "mimetype": "text/x-python",
   "name": "python",
   "nbconvert_exporter": "python",
   "pygments_lexer": "ipython2",
   "version": "2.7.6"
  }
 },
 "nbformat": 4,
 "nbformat_minor": 0
}
