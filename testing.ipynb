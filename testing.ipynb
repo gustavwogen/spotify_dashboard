{
 "cells": [
  {
   "cell_type": "code",
   "execution_count": 1,
   "metadata": {
    "ExecuteTime": {
     "end_time": "2023-05-05T02:25:16.982168Z",
     "start_time": "2023-05-05T02:25:16.979959Z"
    },
    "collapsed": true
   },
   "outputs": [],
   "source": [
    "import os\n",
    "from spotify import create_client, create_tracks_df\n",
    "import spotipy\n",
    "from spotipy import SpotifyOAuth"
   ]
  },
  {
   "cell_type": "code",
   "execution_count": 2,
   "metadata": {
    "ExecuteTime": {
     "end_time": "2023-05-05T02:25:17.470111Z",
     "start_time": "2023-05-05T02:25:17.467514Z"
    },
    "collapsed": false
   },
   "outputs": [],
   "source": [
    "scope = \"user-top-read\"\n",
    "client = spotipy.Spotify(auth_manager=SpotifyOAuth(\n",
    "    client_id='fd47f07ee6ea44c9896fed2d2a4d7935',\n",
    "    client_secret='fb9613640f244b299a90d01b97dc31a4',\n",
    "    redirect_uri='http://localhost:8080',\n",
    "    scope=scope\n",
    "))"
   ]
  },
  {
   "cell_type": "code",
   "execution_count": 17,
   "metadata": {
    "ExecuteTime": {
     "end_time": "2023-05-03T22:05:46.709678Z",
     "start_time": "2023-05-03T22:05:46.003045Z"
    },
    "collapsed": false
   },
   "outputs": [
    {
     "data": {
      "text/plain": [
       "True"
      ]
     },
     "execution_count": 17,
     "metadata": {},
     "output_type": "execute_result"
    }
   ],
   "source": [
    "res = client.current_user_top_tracks(limit=1)\n",
    "set(res.keys()) == set(['items', 'total', 'limit', 'offset', 'href', 'next', 'previous'])"
   ]
  },
  {
   "cell_type": "code",
   "execution_count": 9,
   "metadata": {
    "collapsed": false
   },
   "outputs": [],
   "source": [
    "songs, artists, albums = df['track title'], ['artists'], df['album']\n",
    "songs"
   ]
  },
  {
   "cell_type": "code",
   "execution_count": null,
   "metadata": {
    "collapsed": false
   },
   "outputs": [],
   "source": []
  },
  {
   "cell_type": "code",
   "execution_count": 2,
   "metadata": {
    "ExecuteTime": {
     "end_time": "2023-05-03T22:47:40.767878Z",
     "start_time": "2023-05-03T22:47:40.763743Z"
    },
    "collapsed": false
   },
   "outputs": [
    {
     "name": "stdout",
     "output_type": "stream",
     "text": [
      "<MagicMock name='spotipy' id='5767153648'>\n"
     ]
    }
   ],
   "source": [
    "from unittest.mock import Mock, patch\n",
    "\n",
    "\n",
    "@patch(\"spotify.spotipy\")\n",
    "def test_create_client(mock_spotipy):\n",
    "    print(mock_spotipy)\n",
    "\n",
    "\n",
    "test_create_client()\n",
    "\n",
    "\n"
   ]
  },
  {
   "cell_type": "code",
   "execution_count": null,
   "metadata": {
    "collapsed": false
   },
   "outputs": [],
   "source": []
  }
 ],
 "metadata": {
  "kernelspec": {
   "display_name": "Python 3",
   "language": "python",
   "name": "python3"
  },
  "language_info": {
   "codemirror_mode": {
    "name": "ipython",
    "version": 3
   },
   "file_extension": ".py",
   "mimetype": "text/x-python",
   "name": "python",
   "nbconvert_exporter": "python",
   "pygments_lexer": "ipython3",
   "version": "3.10.11"
  }
 },
 "nbformat": 4,
 "nbformat_minor": 0
}
